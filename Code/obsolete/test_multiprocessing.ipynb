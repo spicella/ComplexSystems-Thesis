{
 "cells": [
  {
   "cell_type": "code",
   "execution_count": 242,
   "metadata": {},
   "outputs": [],
   "source": [
    "import numpy as np\n",
    "import pandas as pd\n",
    "import math\n",
    "import time\n",
    "import timeit\n",
    "import threading\n",
    "import multiprocessing\n",
    "from concurrent.futures import ThreadPoolExecutor, ProcessPoolExecutor\n",
    "\n",
    "\n",
    "def time_stuff(fn):\n",
    "    \"\"\"\n",
    "    Measure time of execution of a function\n",
    "    \"\"\"\n",
    "    def wrapper(*args, **kwargs):\n",
    "        t0 = timeit.default_timer()\n",
    "        fn(*args, **kwargs)\n",
    "        t1 = timeit.default_timer()\n",
    "        print(\"{} seconds\".format(t1 - t0))\n",
    "    return wrapper"
   ]
  },
  {
   "cell_type": "markdown",
   "metadata": {},
   "source": [
    "# Shifting matrix==> no better result using multithread"
   ]
  },
  {
   "cell_type": "code",
   "execution_count": 226,
   "metadata": {},
   "outputs": [],
   "source": [
    "def find_primes_in(nmin, nmax):\n",
    "    \"\"\"\n",
    "    Compute a list of prime numbers between the given minimum and maximum arguments\n",
    "    \"\"\"\n",
    "    primes = []\n",
    "\n",
    "    # Loop from minimum to maximum\n",
    "    for current in range(nmin, nmax + 1):\n",
    "\n",
    "        # Take the square root of the current number\n",
    "        sqrt_n = int(math.sqrt(current))\n",
    "        found = False\n",
    "\n",
    "        # Check if the any number from 2 to the square root + 1 divides the current numnber under consideration\n",
    "        for number in range(2, sqrt_n + 1):\n",
    "\n",
    "            # If divisible we have found a factor, hence this is not a prime number, lets move to the next one\n",
    "            if current % number == 0:\n",
    "                found = True\n",
    "                break\n",
    "\n",
    "        # If not divisible, add this number to the list of primes that we have found so far\n",
    "        if not found:\n",
    "            primes.append(current)\n",
    "    return primes\n",
    "    # I am merely printing the length of the array containing all the primes, but feel free to do what you want\n",
    "    #do whatever here\n",
    "\n",
    "def process_executor_prime_finder(nmin, nmax):\n",
    "    \"\"\"\n",
    "    Split the min max interval similar to the threading method, but use the process pool executor.\n",
    "    This is the fastest method recorded so far as it manages process efficiently + overcomes GIL limitations.\n",
    "    RECOMMENDED METHOD FOR CPU-BOUND TASKS\n",
    "    \"\"\"\n",
    "    nrange = nmax - nmin\n",
    "    max_workers= 8\n",
    "    with ProcessPoolExecutor(max_workers = max_workers) as e:\n",
    "        out_result = []\n",
    "        for i in range(max_workers):\n",
    "            start = int(nmin + i * nrange/8)\n",
    "            end = int(nmin + (i + 1) * nrange/8)\n",
    "            out_result.append((e.submit(find_primes_in, start, end).result()))\n",
    "    return out_result"
   ]
  },
  {
   "cell_type": "code",
   "execution_count": 307,
   "metadata": {},
   "outputs": [],
   "source": [
    "def convert_to_df(mat,dtype=\"float32\"): \n",
    "    #dataframes were used as they allowed computational times almost\n",
    "    #as fast as numpy but with easier syntax/more useful built in functions \n",
    "    #for the present algorithm\n",
    "    return pd.DataFrame(np.float32(mat))\n",
    "\n",
    "def convert_to_df(mat,dtype=\"float32\"): \n",
    "    #dataframes were used as they allowed computational times almost\n",
    "    #as fast as numpy but with easier syntax/more useful built in functions \n",
    "    #for the present algorithm\n",
    "    return pd.DataFrame(np.float32(mat))\n",
    "\n",
    "@time_stuff\n",
    "def get_distrib_mat(grid):\n",
    "    # This is the only true parallelizable process\n",
    "    \"\"\"Here only one step is needed in a given direction\"\"\"\n",
    "    \"\"\"but this can be easily be changed and n-steps in whatever direction\"\"\"\n",
    "    \"\"\"Given a grid (of PDF), returns values of the grid (n) steps in a given\"\"\"\n",
    "    \"\"\"direction of the grid.\"\"\"\n",
    "    df_grid = convert_to_df(grid)\n",
    "    N = df_grid.shift(-1,axis=0,fill_value=0)  #looks 1 cell up\n",
    "    E = df_grid.shift(-1,axis=1,fill_value=0) #looks 1 cell right\n",
    "    S = df_grid.shift(1,axis=0,fill_value=0) #looks 1 cell down \n",
    "    W = df_grid.shift(1,axis=1,fill_value=0)  #looks 1 cell left \n",
    "    return N,E,S,W\n",
    "\n",
    "def get_distrib_mat_multithread(grid,ax,direction):\n",
    "    # This is the only true parallelizable process\n",
    "    \"\"\"Here only one step is needed in a given direction\"\"\"\n",
    "    \"\"\"but this can be easily be changed and n-steps in whatever direction\"\"\"\n",
    "    \"\"\"Given a grid (of PDF), returns values of the grid (n) steps in a given\"\"\"\n",
    "    \"\"\"direction of the grid.\"\"\"\n",
    "    df_grid = convert_to_df(grid)\n",
    "    return df_grid.shift(direction,axis=ax,fill_value=0) "
   ]
  },
  {
   "cell_type": "code",
   "execution_count": 308,
   "metadata": {},
   "outputs": [],
   "source": [
    "@time_stuff\n",
    "def shift_grid_multithread(grid):\n",
    "    \"\"\"\n",
    "    Split the min max interval similar to the threading method, but use the process pool executor.\n",
    "    This is the fastest method recorded so far as it manages process efficiently + overcomes GIL limitations.\n",
    "    RECOMMENDED METHOD FOR CPU-BOUND TASKS\n",
    "    \"\"\"\n",
    "    df_grid = convert_to_df(grid)\n",
    "    max_workers= 2\n",
    "    counter = 0\n",
    "    c=0\n",
    "    with ProcessPoolExecutor(max_workers = max_workers) as e:\n",
    "        out_result = []\n",
    "        for i in range(max_workers):\n",
    "            if c==0:\n",
    "                ax = 0 #check NS direction\n",
    "                pm = -1 #look one up\n",
    "            elif c==1:\n",
    "                ax = 1 #check WE direction\n",
    "                pm = -1 #look one east\n",
    "            elif c==2:\n",
    "                ax = 0 #check NS direction\n",
    "                pm = 1 #look one down\n",
    "            elif c==3:\n",
    "                ax = 1 #check WE direction\n",
    "                pm = 1 #look one west    \n",
    "            c+=1\n",
    "\n",
    "            out_result.append((e.submit(get_distrib_mat_multithread,grid,ax, pm).result()))\n",
    "    return out_result"
   ]
  },
  {
   "cell_type": "code",
   "execution_count": 321,
   "metadata": {},
   "outputs": [],
   "source": [
    "size = [300,300]\n",
    "mat_test = np.random.random(size=size)"
   ]
  },
  {
   "cell_type": "code",
   "execution_count": 322,
   "metadata": {},
   "outputs": [
    {
     "name": "stdout",
     "output_type": "stream",
     "text": [
      "0.06635358700077632 seconds\n"
     ]
    }
   ],
   "source": [
    "get_distrib_mat(mat_test) #original (pandas)\n",
    "shift_grid_multithread(mat_test) #multithread"
   ]
  },
  {
   "cell_type": "markdown",
   "metadata": {},
   "source": [
    "#### In conclusion, not efficient to multithread the shift operations"
   ]
  },
  {
   "cell_type": "markdown",
   "metadata": {},
   "source": [
    "### Trying with 4 matrix multiplications in parallel"
   ]
  },
  {
   "cell_type": "code",
   "execution_count": 552,
   "metadata": {},
   "outputs": [],
   "source": [
    "from threading import Thread\n",
    "import queue\n",
    "from time import sleep"
   ]
  },
  {
   "cell_type": "code",
   "execution_count": 620,
   "metadata": {},
   "outputs": [],
   "source": [
    "size=300\n",
    "\n",
    "a = np.float32(np.random.random(size=[size,size]))\n",
    "b = np.float32(np.random.random(size=[size,size]))\n",
    "c = np.float32(np.random.random(size=[size,size]))\n",
    "\n",
    "\n",
    "def increment_direction(a,b,c,d): #q=queue value\n",
    "    return np.multiply(a,b)- np.multiply(c,d)\n",
    "\n",
    "\n",
    "def wrapper(func, args, res):\n",
    "    res.append(func(*args))\n",
    "def eval_increments(a,b,c,d):\n",
    "    res = []\n",
    "    t1 = threading.Thread(\n",
    "        target=wrapper, args=(increment_direction, (a,b,c,c), res))\n",
    "    t2 = threading.Thread(\n",
    "        target=wrapper, args=(increment_direction, (a,c,b,b), res))\n",
    "    t3 = threading.Thread(\n",
    "        target=wrapper, args=(increment_direction, (a,c,a,c), res))\n",
    "    t4 = threading.Thread(\n",
    "        target=wrapper, args=(increment_direction, (a,c,a,a), res))\n",
    "    t1.start()\n",
    "    t2.start()    \n",
    "    t3.start()\n",
    "    t4.start()\n",
    "\n",
    "    t1.join()\n",
    "    t2.join()\n",
    "    t3.join()\n",
    "    t4.join()\n",
    "    \n",
    "    #return res for the individual matrices\n",
    "    return np.add(np.add(res[0],res[1]),np.add(res[0],res[1]))"
   ]
  },
  {
   "cell_type": "code",
   "execution_count": 629,
   "metadata": {},
   "outputs": [
    {
     "name": "stdout",
     "output_type": "stream",
     "text": [
      "0.010265000000003965\n",
      "0.004239000000097803\n"
     ]
    }
   ],
   "source": [
    "#\"k=\" just to simulate the declaration of variable \n",
    "n=1\n",
    "start = time.clock()\n",
    "for i in range(0,n):\n",
    "    avg = 0\n",
    "    k = eval_increments(a,b,a,c)\n",
    "    avg += time.clock()-start\n",
    "avg/=n\n",
    "print(avg)\n",
    "\n",
    "start = time.clock()\n",
    "for i in range(0,n):\n",
    "    avg = 0\n",
    "    k1 = np.multiply(a,b)-np.multiply(a,b)\n",
    "    k2 = np.multiply(a,c)-np.multiply(a,b)\n",
    "    k3 = np.multiply(c,b)-np.multiply(a,b)\n",
    "    k4 = np.multiply(a,a)-np.multiply(a,b)\n",
    "    \n",
    "    result = np.add(k1,k2),np.add(k3,k4)\n",
    "    avg += time.clock()-start\n",
    "avg/=n\n",
    "print(avg)"
   ]
  },
  {
   "cell_type": "code",
   "execution_count": null,
   "metadata": {},
   "outputs": [],
   "source": []
  },
  {
   "cell_type": "code",
   "execution_count": null,
   "metadata": {},
   "outputs": [],
   "source": []
  },
  {
   "cell_type": "code",
   "execution_count": null,
   "metadata": {},
   "outputs": [],
   "source": []
  },
  {
   "cell_type": "code",
   "execution_count": null,
   "metadata": {},
   "outputs": [],
   "source": []
  },
  {
   "cell_type": "code",
   "execution_count": null,
   "metadata": {},
   "outputs": [],
   "source": [
    "def increment(grid,a0,a1,a2,a3,a4,a0w,a1e,a2n,a3s):\n",
    "    \"\"\"\n",
    "    Split the min max interval similar to the threading method, but use the process pool executor.\n",
    "    This is the fastest method recorded so far as it manages process efficiently + overcomes GIL limitations.\n",
    "    RECOMMENDED METHOD FOR CPU-BOUND TASKS\n",
    "    \"\"\"\n",
    "    df_grid = convert_to_df(grid)\n",
    "    max_workers= 4\n",
    "    counter = 0\n",
    "    c=0\n",
    "    with ProcessPoolExecutor(max_workers = max_workers) as e:\n",
    "        out_result = []\n",
    "        for i in range(max_workers):\n",
    "            if c==0:\n",
    "                ax = 0 #check NS direction\n",
    "                pm = -1 #look one up\n",
    "            elif c==1:\n",
    "                ax = 1 #check WE direction\n",
    "                pm = -1 #look one east\n",
    "            elif c==2:\n",
    "                ax = 0 #check NS direction\n",
    "                pm = 1 #look one down\n",
    "            elif c==3:\n",
    "                ax = 1 #check WE direction\n",
    "                pm = 1 #look one west    \n",
    "            c+=1\n",
    "\n",
    "            out_result.append((e.submit(get_distrib_mat_multithread,grid,ax, pm).result()))\n",
    "    return out_result"
   ]
  },
  {
   "cell_type": "markdown",
   "metadata": {},
   "source": [
    "# Matrix multiplication benchmarks "
   ]
  },
  {
   "cell_type": "code",
   "execution_count": 323,
   "metadata": {},
   "outputs": [],
   "source": [
    "def convert_to_df(mat,dtype=\"float32\"): \n",
    "    #dataframes were used as they allowed computational times almost\n",
    "    #as fast as numpy but with easier syntax/more useful built in functions \n",
    "    #for the present algorithm\n",
    "    return pd.DataFrame(np.float32(mat))\n",
    "\n",
    "def get_distrib_mat(grid):\n",
    "    # This is the only true parallelizable process\n",
    "    \"\"\"Here only one step is needed in a given direction\"\"\"\n",
    "    \"\"\"but this can be easily be changed and n-steps in whatever direction\"\"\"\n",
    "    \"\"\"Given a grid (of PDF), returns values of the grid (n) steps in a given\"\"\"\n",
    "    \"\"\"direction of the grid.\"\"\"\n",
    "    df_grid = convert_to_df(grid)\n",
    "    N = df_grid.shift(-1,axis=0,fill_value=0)  #looks 1 cell up\n",
    "    E = df_grid.shift(-1,axis=1,fill_value=0) #looks 1 cell right\n",
    "    S = df_grid.shift(1,axis=0,fill_value=0) #looks 1 cell down \n",
    "    W = df_grid.shift(1,axis=1,fill_value=0)  #looks 1 cell left \n",
    "    return N,E,S,W"
   ]
  },
  {
   "cell_type": "code",
   "execution_count": 504,
   "metadata": {},
   "outputs": [
    {
     "name": "stdout",
     "output_type": "stream",
     "text": [
      "0.0023400050000009285\n",
      "0.009897070000001349\n"
     ]
    }
   ],
   "source": [
    "avg = 0\n",
    "n=1000\n",
    "for i in range(0,n):\n",
    "    start = time.clock()\n",
    "    shifted = get_distrib_mat(mat_test)\n",
    "    N = shifted[0]\n",
    "    E = shifted[1]\n",
    "    S = shifted[2]\n",
    "    W = shifted[3]\n",
    "    avg += time.clock()-start\n",
    "avg/=n\n",
    "print(avg)\n",
    "\n",
    "    #obviously, first approach faster than second of about a factor 2-4\n",
    "avg = 0\n",
    "for i in range(0,n):\n",
    "    start = time.clock()\n",
    "    N = get_distrib_mat(mat_test)[0]\n",
    "    E = get_distrib_mat(mat_test)[1]\n",
    "    S = get_distrib_mat(mat_test)[2]\n",
    "    W = get_distrib_mat(mat_test)[3]\n",
    "    avg += time.clock()-start\n",
    "avg/=n\n",
    "print(avg)"
   ]
  },
  {
   "cell_type": "code",
   "execution_count": 393,
   "metadata": {},
   "outputs": [
    {
     "name": "stdout",
     "output_type": "stream",
     "text": [
      "0.0004361460000007753\n",
      "0.001739780999999681\n"
     ]
    }
   ],
   "source": [
    "avg = 0\n",
    "n=1000\n",
    "for i in range(0,n):\n",
    "    #also here, a factor 5 when using np\n",
    "    \n",
    "    start = time.clock()\n",
    "    a = np.multiply(N,N)\n",
    "    avg += time.clock()-start\n",
    "avg/=n\n",
    "print(avg)\n",
    "\n",
    "avg = 0\n",
    "for i in range(0,n):\n",
    "    start = time.clock()\n",
    "    a = N*N\n",
    "    avg += time.clock()-start\n",
    "avg/=n\n",
    "print(avg)"
   ]
  },
  {
   "cell_type": "markdown",
   "metadata": {},
   "source": [
    "#### Benchmark for array2d*pandas multiplication"
   ]
  },
  {
   "cell_type": "code",
   "execution_count": 399,
   "metadata": {},
   "outputs": [
    {
     "name": "stdout",
     "output_type": "stream",
     "text": [
      "0.0020165619999999366\n",
      "0.0001467279999999107\n"
     ]
    }
   ],
   "source": [
    "size = [300,300]\n",
    "mat_test = np.random.random(size=size)\n",
    "shifted = get_distrib_mat(mat_test)\n",
    "N = shifted[0] #DataFrame type\n",
    "E = shifted[1]\n",
    "S = shifted[2]\n",
    "W = shifted[3]\n",
    "\n",
    "avg = 0\n",
    "n=1000\n",
    "for i in range(0,n):\n",
    "    start = time.clock()\n",
    "    N*mat_test\n",
    "    avg += time.clock()-start\n",
    "avg/=n\n",
    "print(avg)\n",
    "\n",
    "N=np.float32(N) #significant (20x) improve if np*np multiplication instead of pd*np is used\n",
    "avg = 0\n",
    "n=1000\n",
    "for i in range(0,n):\n",
    "    start = time.clock()\n",
    "    N*mat_test\n",
    "    avg += time.clock()-start\n",
    "avg/=n\n",
    "print(avg)"
   ]
  },
  {
   "cell_type": "code",
   "execution_count": 380,
   "metadata": {},
   "outputs": [
    {
     "name": "stdout",
     "output_type": "stream",
     "text": [
      "0.00020552300000048262\n"
     ]
    }
   ],
   "source": []
  },
  {
   "cell_type": "code",
   "execution_count": null,
   "metadata": {},
   "outputs": [],
   "source": [
    "#differences in the order of 4/1000, method already implemented is faster.."
   ]
  },
  {
   "cell_type": "code",
   "execution_count": null,
   "metadata": {},
   "outputs": [],
   "source": []
  },
  {
   "cell_type": "code",
   "execution_count": null,
   "metadata": {},
   "outputs": [],
   "source": []
  },
  {
   "cell_type": "code",
   "execution_count": 437,
   "metadata": {},
   "outputs": [],
   "source": [
    "c1=c4 = 3e3\n",
    "c2=c5 = 1.1e4\n",
    "c3=c6 = 1e-3\n",
    "beta = gamma = 2\n",
    "\n",
    "\n",
    "\n",
    "def r1(i,j):\n",
    "    return c1/(c2+j**beta)\n",
    "def r2(i,j):\n",
    "    return c3*i\n",
    "def r3(i,j):\n",
    "    return c4/(c5+i**gamma)\n",
    "def r4(i,j):\n",
    "    return c6*j\n",
    "\n",
    "size=300\n",
    "mat_test = np.random.random(size=[size,size])\n",
    "\n",
    "\n",
    "a = np.zeros(shape=[4,size,size],dtype=\"float32\")\n",
    "for i in range(0,size):\n",
    "    for j in range(0,size):\n",
    "        a[0,i,j] = r1(i,j)\n",
    "        a[1,i,j] = r2(i,j)\n",
    "        a[2,i,j] = r3(i,j) \n",
    "        a[3,i,j] = r4(i,j) \n"
   ]
  },
  {
   "cell_type": "code",
   "execution_count": 438,
   "metadata": {},
   "outputs": [],
   "source": [
    "adf = pd.DataFrame(a[0])"
   ]
  },
  {
   "cell_type": "code",
   "execution_count": 442,
   "metadata": {},
   "outputs": [
    {
     "name": "stdout",
     "output_type": "stream",
     "text": [
      "0.002005860879999915\n",
      "0.00015364831721751803\n",
      "0.00014140737999997555\n"
     ]
    }
   ],
   "source": [
    "avg = 0\n",
    "n=50000\n",
    "\n",
    "for i in range(0,n):\n",
    "    start = time.clock()\n",
    "    adf*mat_test\n",
    "    avg += time.clock()-start\n",
    "avg/=n\n",
    "print(avg)\n",
    "\n",
    "\n",
    "for i in range(0,n):\n",
    "    start = time.clock()\n",
    "    a[0]*mat_test\n",
    "    avg += time.clock()-start\n",
    "avg/=n\n",
    "print(avg)\n",
    "\n",
    "avg = 0\n",
    "for i in range(0,n):\n",
    "    start = time.clock()\n",
    "    np.multiply(a[0],mat_test)\n",
    "    avg += time.clock()-start\n",
    "avg/=n\n",
    "print(avg)\n",
    "#almost a factor 20!\n"
   ]
  },
  {
   "cell_type": "code",
   "execution_count": null,
   "metadata": {},
   "outputs": [],
   "source": []
  }
 ],
 "metadata": {
  "kernelspec": {
   "display_name": "Python 3",
   "language": "python",
   "name": "python3"
  },
  "language_info": {
   "codemirror_mode": {
    "name": "ipython",
    "version": 3
   },
   "file_extension": ".py",
   "mimetype": "text/x-python",
   "name": "python",
   "nbconvert_exporter": "python",
   "pygments_lexer": "ipython3",
   "version": "3.6.0"
  }
 },
 "nbformat": 4,
 "nbformat_minor": 2
}
